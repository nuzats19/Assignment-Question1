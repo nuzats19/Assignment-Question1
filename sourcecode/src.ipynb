{
 "cells": [
  {
   "cell_type": "code",
   "execution_count": 42,
   "id": "9e79e26b",
   "metadata": {},
   "outputs": [],
   "source": [
    "import os\n",
    "import numpy as np\n",
    "import pandas as pd\n",
    "import matplotlib.pyplot as plt\n"
   ]
  },
  {
   "cell_type": "code",
   "execution_count": 27,
   "id": "91be9643",
   "metadata": {},
   "outputs": [],
   "source": [
    "df=pd.read_csv('question1.csv')\n",
    "dir_name = \"../rawdata\"\n",
    "if os.path.isdir(dir_name)==False:\n",
    "    os.mkdir(\"../rawdata\")\n",
    "filename = \"raw_csv.csv\"\n",
    "full_name = os.path.join(dir_name , filename)\n",
    "df.to_csv(full_name, sep=',')\n",
    "readme_file_name = os.path.join(dir_name,'readme.txt')\n",
    "with open(readme_file_name, \"a\") as f:\n",
    "    f.write('Create a new text!\\n')\n",
    "f.close()"
   ]
  },
  {
   "cell_type": "code",
   "execution_count": 28,
   "id": "4e54775a",
   "metadata": {},
   "outputs": [
    {
     "data": {
      "text/html": [
       "<div>\n",
       "<style scoped>\n",
       "    .dataframe tbody tr th:only-of-type {\n",
       "        vertical-align: middle;\n",
       "    }\n",
       "\n",
       "    .dataframe tbody tr th {\n",
       "        vertical-align: top;\n",
       "    }\n",
       "\n",
       "    .dataframe thead th {\n",
       "        text-align: right;\n",
       "    }\n",
       "</style>\n",
       "<table border=\"1\" class=\"dataframe\">\n",
       "  <thead>\n",
       "    <tr style=\"text-align: right;\">\n",
       "      <th></th>\n",
       "      <th>Unnamed: 0</th>\n",
       "      <th>Height (Inches)</th>\n",
       "      <th>Weight (Pounds)</th>\n",
       "      <th>Age</th>\n",
       "      <th>Grip strength</th>\n",
       "      <th>Frailty</th>\n",
       "    </tr>\n",
       "  </thead>\n",
       "  <tbody>\n",
       "    <tr>\n",
       "      <th>0</th>\n",
       "      <td>0</td>\n",
       "      <td>65.8</td>\n",
       "      <td>112</td>\n",
       "      <td>30</td>\n",
       "      <td>30</td>\n",
       "      <td>N</td>\n",
       "    </tr>\n",
       "    <tr>\n",
       "      <th>1</th>\n",
       "      <td>1</td>\n",
       "      <td>71.5</td>\n",
       "      <td>136</td>\n",
       "      <td>19</td>\n",
       "      <td>31</td>\n",
       "      <td>N</td>\n",
       "    </tr>\n",
       "    <tr>\n",
       "      <th>2</th>\n",
       "      <td>2</td>\n",
       "      <td>69.4</td>\n",
       "      <td>153</td>\n",
       "      <td>45</td>\n",
       "      <td>29</td>\n",
       "      <td>N</td>\n",
       "    </tr>\n",
       "    <tr>\n",
       "      <th>3</th>\n",
       "      <td>3</td>\n",
       "      <td>68.2</td>\n",
       "      <td>142</td>\n",
       "      <td>22</td>\n",
       "      <td>28</td>\n",
       "      <td>Y</td>\n",
       "    </tr>\n",
       "    <tr>\n",
       "      <th>4</th>\n",
       "      <td>4</td>\n",
       "      <td>67.8</td>\n",
       "      <td>144</td>\n",
       "      <td>29</td>\n",
       "      <td>24</td>\n",
       "      <td>Y</td>\n",
       "    </tr>\n",
       "    <tr>\n",
       "      <th>5</th>\n",
       "      <td>5</td>\n",
       "      <td>68.7</td>\n",
       "      <td>123</td>\n",
       "      <td>50</td>\n",
       "      <td>26</td>\n",
       "      <td>N</td>\n",
       "    </tr>\n",
       "    <tr>\n",
       "      <th>6</th>\n",
       "      <td>6</td>\n",
       "      <td>69.8</td>\n",
       "      <td>141</td>\n",
       "      <td>51</td>\n",
       "      <td>22</td>\n",
       "      <td>Y</td>\n",
       "    </tr>\n",
       "    <tr>\n",
       "      <th>7</th>\n",
       "      <td>7</td>\n",
       "      <td>70.1</td>\n",
       "      <td>136</td>\n",
       "      <td>23</td>\n",
       "      <td>20</td>\n",
       "      <td>Y</td>\n",
       "    </tr>\n",
       "    <tr>\n",
       "      <th>8</th>\n",
       "      <td>8</td>\n",
       "      <td>67.9</td>\n",
       "      <td>112</td>\n",
       "      <td>17</td>\n",
       "      <td>19</td>\n",
       "      <td>N</td>\n",
       "    </tr>\n",
       "    <tr>\n",
       "      <th>9</th>\n",
       "      <td>9</td>\n",
       "      <td>66.8</td>\n",
       "      <td>120</td>\n",
       "      <td>39</td>\n",
       "      <td>31</td>\n",
       "      <td>N</td>\n",
       "    </tr>\n",
       "  </tbody>\n",
       "</table>\n",
       "</div>"
      ],
      "text/plain": [
       "   Unnamed: 0 Height (Inches) Weight (Pounds)  Age Grip strength Frailty\n",
       "0           0           65.8             112   30            30       N \n",
       "1           1           71.5             136   19            31       N \n",
       "2           2           69.4             153   45            29       N \n",
       "3           3           68.2             142   22            28       Y \n",
       "4           4           67.8             144   29            24       Y \n",
       "5           5           68.7             123   50            26       N \n",
       "6           6           69.8             141   51            22       Y \n",
       "7           7           70.1             136   23            20       Y \n",
       "8           8           67.9             112   17            19       N \n",
       "9           9           66.8             120   39            31       N "
      ]
     },
     "execution_count": 28,
     "metadata": {},
     "output_type": "execute_result"
    }
   ],
   "source": [
    "df = pd.read_csv(full_name)\n",
    "df"
   ]
  },
  {
   "cell_type": "code",
   "execution_count": 53,
   "id": "1e626dd3",
   "metadata": {},
   "outputs": [],
   "source": [
    "from fpdf import FPDF\n",
    "f= FPDF()\n",
    "f.add_page()\n",
    "f.output(\"../result/report.pdf\")"
   ]
  },
  {
   "cell_type": "code",
   "execution_count": 29,
   "id": "96fe9419",
   "metadata": {},
   "outputs": [],
   "source": [
    "dir_name = \"../cleandata\"\n",
    "if os.path.isdir(dir_name)==False:\n",
    "    os.mkdir(\"../cleandata\")\n",
    "filename = \"new_data.csv\"\n",
    "full_name = os.path.join(dir_name , filename)\n",
    "df.to_csv(full_name, sep=',')\n",
    "f.close()"
   ]
  },
  {
   "cell_type": "code",
   "execution_count": 30,
   "id": "6885f052",
   "metadata": {},
   "outputs": [],
   "source": [
    "dir_name = \"../result\"\n",
    "if os.path.isdir(dir_name)==False:\n",
    "    os.mkdir(\"../result\")\n",
    "full_name = os.path.join(dir_name)\n",
    "f.close()"
   ]
  },
  {
   "cell_type": "code",
   "execution_count": 31,
   "id": "09142599",
   "metadata": {},
   "outputs": [
    {
     "data": {
      "text/plain": [
       "Unnamed: 0          int64\n",
       "Height (Inches)    object\n",
       "Weight (Pounds)    object\n",
       "Age                object\n",
       "Grip strength      object\n",
       "Frailty            object\n",
       "dtype: object"
      ]
     },
     "execution_count": 31,
     "metadata": {},
     "output_type": "execute_result"
    }
   ],
   "source": [
    "df.dtypes"
   ]
  },
  {
   "cell_type": "code",
   "execution_count": 32,
   "id": "c4e1a805",
   "metadata": {},
   "outputs": [],
   "source": [
    "clean_df = df.fillna(value = 0,inplace = False)\n",
    "clean_df.to_csv(\"../cleandata/new_data.csv\")"
   ]
  },
  {
   "cell_type": "code",
   "execution_count": 35,
   "id": "012c93fc",
   "metadata": {},
   "outputs": [
    {
     "data": {
      "text/plain": [
       "0"
      ]
     },
     "execution_count": 35,
     "metadata": {},
     "output_type": "execute_result"
    }
   ],
   "source": [
    "df.duplicated().sum()"
   ]
  },
  {
   "cell_type": "code",
   "execution_count": 36,
   "id": "01e8b5d9",
   "metadata": {},
   "outputs": [
    {
     "data": {
      "text/plain": [
       "Index(['unnamed: 0', 'height (inches)', 'weight (pounds)', 'age',\n",
       "       'grip strength', 'frailty'],\n",
       "      dtype='object')"
      ]
     },
     "execution_count": 36,
     "metadata": {},
     "output_type": "execute_result"
    }
   ],
   "source": [
    "clean_df= df.columns = df.columns.str.lower()\n",
    "clean_df"
   ]
  },
  {
   "cell_type": "code",
   "execution_count": 37,
   "id": "615880c4",
   "metadata": {},
   "outputs": [],
   "source": [
    "clean_df = df.sort_values(by = 'age')\n",
    "clean_df.to_csv(\"../cleandata/new_data.csv\")"
   ]
  },
  {
   "cell_type": "code",
   "execution_count": 38,
   "id": "9e78b076",
   "metadata": {},
   "outputs": [
    {
     "data": {
      "image/png": "[encoded data removed]",
      "text/plain": [
       "<Figure size 600x500 with 1 Axes>"
      ]
     },
     "metadata": {},
     "output_type": "display_data"
    }
   ],
   "source": [
    "clean_df.plot.scatter(x = 'frailty', y = 'age', s = 30, figsize=(6,5));\n",
    "plt.savefig(\"../result/scatterplot.png\")"
   ]
  },
  {
   "cell_type": "code",
   "execution_count": 60,
   "id": "f265bc10",
   "metadata": {},
   "outputs": [
    {
     "data": {
      "image/png": "[encoded data removed]",
      "text/plain": [
       "<Figure size 640x480 with 1 Axes>"
      ]
     },
     "metadata": {},
     "output_type": "display_data"
    }
   ],
   "source": [
    "clean_df = df.sort_values(by = 'grip strength')\n",
    "plt.bar(clean_df['age'],clean_df['grip strength'])\n",
    "plt.xlabel(\"Age\")\n",
    "plt.ylabel(\"Grip Strength\")\n",
    "plt.title(\"Grip Strength vs Age\")\n",
    "plt.savefig(\"../result/barplot.png\")"
   ]
  },
  {
   "cell_type": "code",
   "execution_count": 62,
   "id": "751ebd78",
   "metadata": {},
   "outputs": [
    {
     "data": {
      "image/png": "[encoded data removed]",
      "text/plain": [
       "<Figure size 640x480 with 1 Axes>"
      ]
     },
     "metadata": {},
     "output_type": "display_data"
    }
   ],
   "source": [
    "clean_df = df.sort_values(by = 'weight (pounds)')\n",
    "plt.bar(clean_df['age'],clean_df['weight (pounds)'])\n",
    "plt.xlabel(\"Age\")\n",
    "plt.ylabel(\"Weight\")\n",
    "plt.title(\"Weight vs Age\")\n",
    "plt.savefig(\"../result/barplot2.png\")"
   ]
  },
  {
   "cell_type": "code",
   "execution_count": 41,
   "id": "1d77a1ac",
   "metadata": {},
   "outputs": [
    {
     "data": {
      "image/png": "[encoded data removed]",
      "text/plain": [
       "<Figure size 640x480 with 1 Axes>"
      ]
     },
     "metadata": {},
     "output_type": "display_data"
    }
   ],
   "source": [
    "sort_df=df.sort_values(by = 'height (inches)')\n",
    "plt.bar(sort_df['height (inches)'],df['weight (pounds)'])\n",
    "plt.xlabel(\"Height\")\n",
    "plt.ylabel(\"Weight\")\n",
    "plt.title(\"Height vs Weight\")\n",
    "plt.savefig(\"../result/barplot3.png\")"
   ]
  },
  {
   "cell_type": "code",
   "execution_count": null,
   "id": "3dc8ba3f",
   "metadata": {},
   "outputs": [],
   "source": []
  },
  {
   "cell_type": "code",
   "execution_count": null,
   "id": "dc3926ec",
   "metadata": {},
   "outputs": [],
   "source": []
  }
 ],
 "metadata": {
  "kernelspec": {
   "display_name": "Python 3 (ipykernel)",
   "language": "python",
   "name": "python3"
  },
  "language_info": {
   "codemirror_mode": {
    "name": "ipython",
    "version": 3
   },
   "file_extension": ".py",
   "mimetype": "text/x-python",
   "name": "python",
   "nbconvert_exporter": "python",
   "pygments_lexer": "ipython3",
   "version": "3.9.13"
  }
 },
 "nbformat": 4,
 "nbformat_minor": 5
}
